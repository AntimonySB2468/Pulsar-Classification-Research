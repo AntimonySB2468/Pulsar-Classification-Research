{
  "nbformat": 4,
  "nbformat_minor": 0,
  "metadata": {
    "colab": {
      "provenance": []
    },
    "kernelspec": {
      "name": "python3",
      "display_name": "Python 3"
    },
    "language_info": {
      "name": "python"
    }
  },
  "cells": [
    {
      "cell_type": "markdown",
      "source": [
        "# Pulsar Classification System\n",
        "Hi! I'm Aadhya and I go by Antimony online! This is a project mentored by my cousin and UW '22 alumnus, Vignesh Ravindran. This project aims to classify pulsars using the principals of data science in Python. I'll be using this Jupyter notebook to keep track of my research and my learning of data science.\n",
        "\n",
        "# Introduction\n",
        "\n",
        "## Previous Knowledge of Python\n",
        "When I was in grade nine, I had a mandatory unit in Math class, where we had to learn the basics of the Python programming language. That exposure to Python made it one of my favourite programming languages of all time! As a result, I took ICS3U1 (Grade 11 Introduction to Computer Science) in grade 10, and advanced my knowledge of Python up to dictionaries and basic Object Oriented Programming. I did very well in that class, getting a 100% grade in both the final written exam and culminating project! As a grade 11 student, I am currently taking grade 12 AP Computer Science, where we are learning Object Oriented Programming using Java, and I find that class to be incredibly enjoyable and relaxing. I like the atmosphere of sitting down and coding, which I find to be fun and delightfully challenging!\n",
        "\n",
        "## Why Pulsars?\n",
        "Along with my passion for computer science and coding, I am also possibly the biggest astronomy nerd you will ever meet. I fell in love with space when I was in grade 3, when I picked up a monumental book by the talented astronomer and artist David A. Aguilar. His book *11 Planets: A New View of the Solar System* changed my life. Before I knew it, I was tearing through each and every astronomy and astrophysics book in the libraries around me! That fire has been burning inside me for the past 8 years! I wanted to apply my knowledge of astronomy with the principals of data science to harmonize my interests in both Astronomy and Computer Science. Thankfully, the two fields are closely linked to each other! Thus, the Pulsar Classification System was born!\n",
        "\n",
        "\n",
        "\n"
      ],
      "metadata": {
        "id": "vBY6YQYcmVLs"
      }
    },
    {
      "cell_type": "markdown",
      "source": [
        "# Background Research\n",
        "\n",
        "## Prior Knowledge\n",
        "This is knowledge about pulsars I knew from my many years reading astronomy books and researching about pulsars in my spare time.\n",
        "\n",
        "When a big star (typically white giants) run out of hydrogen to conduct nuclear fusion with, they start fusing helium. When they run out of helium, they start fusing heavier elements until they start fusing iron. Iron does not produce enough energy to counteract the star’s immense gravity. The star begins to collapse under its own gravity, creating a supernova. The star begins to greatly reduce in size, creating in most cases a neutron star.\n",
        "\n",
        "A neutron star is so dense that the protons and electrons in the original star fused together to create a massive earth-sized ball of hot neutron soup. Neutron stars are one of the densest objects in the universe. They also have an incredibly strong magnetic field, thousands of orders stronger than Earth’s.\n",
        "\n",
        "Normally, the neutron star’s original main sequence star spins around its axis. When the star goes supernova, the remaining neutron star spins at an even faster rate, similar to how a figure skater spins faster when they bring their arms together. As a result, the neutron star spins at a much faster rate than its original star. Sometimes, if the neutron star spins fast enough, its magnetic field spins in such a way that it creates highly accurate radio pulses. The neutron star is then classified as a pulsating radio source, or pulsar."
      ],
      "metadata": {
        "id": "lmgJCldjltgr"
      }
    },
    {
      "cell_type": "markdown",
      "source": [
        "#To be continued..."
      ],
      "metadata": {
        "id": "rWDx4_D0wt9k"
      }
    }
  ]
}
