{
  "nbformat": 4,
  "nbformat_minor": 0,
  "metadata": {
    "colab": {
      "provenance": [],
      "include_colab_link": true
    },
    "kernelspec": {
      "name": "python3",
      "display_name": "Python 3"
    },
    "language_info": {
      "name": "python"
    }
  },
  "cells": [
    {
      "cell_type": "markdown",
      "metadata": {
        "id": "view-in-github",
        "colab_type": "text"
      },
      "source": [
        "<a href=\"https://colab.research.google.com/github/AntimonySB2468/Pulsar-Classification-Research/blob/main/pulsar_research.ipynb\" target=\"_parent\"><img src=\"https://colab.research.google.com/assets/colab-badge.svg\" alt=\"Open In Colab\"/></a>"
      ]
    },
    {
      "cell_type": "markdown",
      "source": [
        "# Pulsar Classification System\n",
        "Hi! I'm Aadhya and I go by Antimony online! This is a project mentored by my cousin and UW '22 alumnus, Vignesh Ravindran. This project aims to classify pulsars using the principals of data science in Python. I'll be using this Jupyter notebook to keep track of my research and my learning of data science.\n",
        "\n",
        "# Introduction\n",
        "\n",
        "## Previous Knowledge of Python\n",
        "When I was in grade nine, I had a mandatory unit in Math class, where we had to learn the basics of the Python programming language. That exposure to Python made it one of my favourite programming languages of all time! As a result, I took ICS3U1 (Grade 11 Introduction to Computer Science) in grade 10, and advanced my knowledge of Python up to dictionaries and basic Object Oriented Programming. I did very well in that class, getting a 100% grade in both the final written exam and culminating project! As a grade 11 student, I am currently taking grade 12 AP Computer Science, where we are learning Object Oriented Programming using Java, and I find that class to be incredibly enjoyable and relaxing. I like the atmosphere of sitting down and coding, which I find to be fun and delightfully challenging!\n",
        "\n",
        "## Why Pulsars?\n",
        "Along with my passion for computer science and coding, I am also possibly the biggest astronomy nerd you will ever meet. I fell in love with space when I was in grade 3, when I picked up a monumental book by the talented astronomer and artist David A. Aguilar. His book *11 Planets: A New View of the Solar System* changed my life. Before I knew it, I was tearing through each and every astronomy and astrophysics book in the libraries around me! That fire has been burning inside me for the past 8 years! I wanted to apply my knowledge of astronomy with the principals of data science to harmonize my interests in both Astronomy and Computer Science. Thankfully, the two fields are closely linked to each other! Thus, the Pulsar Classification System was born!\n",
        "\n",
        "\n",
        "\n"
      ],
      "metadata": {
        "id": "vBY6YQYcmVLs"
      }
    },
    {
      "cell_type": "markdown",
      "source": [
        "# Background Research\n",
        "\n",
        "## Prior Knowledge\n",
        "This is knowledge about pulsars I knew from my many years reading astronomy books and researching about pulsars in my spare time.\n",
        "\n",
        "When a big star (typically white giants) run out of hydrogen to conduct nuclear fusion with, they start fusing helium. When they run out of helium, they start fusing heavier elements until they start fusing iron. Iron does not produce enough energy to counteract the star’s immense gravity. The star begins to collapse under its own gravity, creating a supernova. The star begins to greatly reduce in size, creating in most cases a neutron star.\n",
        "\n",
        "A neutron star is so dense that the protons and electrons in the original star fused together to create a massive earth-sized ball of hot neutron soup. Neutron stars are one of the densest objects in the universe. They also have an incredibly strong magnetic field, thousands of orders stronger than Earth’s.\n",
        "\n",
        "Normally, the neutron star’s original main sequence star spins around its axis. When the star goes supernova, the remaining neutron star spins at an even faster rate, similar to how a figure skater spins faster when they bring their arms together. As a result, the neutron star spins at a much faster rate than its original star. Sometimes, if the neutron star spins fast enough, its magnetic field spins in such a way that it creates highly accurate radio pulses. The neutron star is then classified as a pulsating radio source, or pulsar."
      ],
      "metadata": {
        "id": "lmgJCldjltgr"
      }
    },
    {
      "cell_type": "markdown",
      "source": [
        "# History\n",
        "\n",
        "We've known about neutron stars for many years. However, the first pulsar was discovered by Jocelyn Bell, a PhD student from Cambridge University. In 1967, while conducting research on quasars with her adviser Anthony Hewish, Bell found strange regular radio pulses from certain \"stars\" in the night sky. These radio pulses came at highly accurate intervals, which led Bell to believe that the pulses came from aliens! She even nicknamed the first pulsar discovered as LGM-1 (it's actual name is PSR B1919+21). We now know that pulsars are in fact, not aliens. Rather, they are neutron stars that spin incredibly fast!\n",
        "\n",
        "# Neutron Stars\n",
        "I've been mentioning neutron stars alot, but I still haven't explained them in depth. When a star that had a mass between 10 to 25 times the mass of the sun reaches the end of it's life, it ends it life in a spectacular supernova. All that remains of the star is its core, which is a neutron star under those circumstances (A star with a mass greater than 25 times the mass of the sun would collapse completely and leave a black hole). Neutron stars are some of the craziest objects in the universe. When a star implodes into a supernova, the protons in the star's core *fuse with electron particles!* That results in a celestial body composing entirely of neutrons. Hence, neutron stars! In order for this to happen, neutron stars must be incredibly dense -- they are one of the densest objects in the universe! The lightest neutron stars are just below $1×10^9 kg/m^3$. For context, that means a cube measuring 1 cm on all three edges would weigh about 1000 kg! Another interesting thing about neutron stars is just how much they spin! Stars already spin when they are alive, but when they implode into neutron stars, they spin even faster. To think about imagine a figure skater spinning. When the figure skater brings their hands closer to their body, they spin faster. Its the same concept! A neutron star's angular momentum reaches to an average of [insert here]. If a neutron star spins fast enough, it's immense magnetic field starts producing frequent pulses of electromagnetic radiation! These rapidly spinning neutron stars are called pulsars.\n",
        "#Pulsars"
      ],
      "metadata": {
        "id": "yULbQBApydli"
      }
    },
    {
      "cell_type": "markdown",
      "source": [
        "Pulsars are rapidly spinning neutron stars. THey spin so fast, they send out incredibly accurate bursts of electrmagnetic radiation. This radiation usually comes as radio waves, but some also burst out visible light, x-rays, and gamma rays. These objects only have a diameter of 20km, but they have a mass ranging from 1.18 solar masses, all the way up to 2 solar masses! This makes pulsars one of the densest objects in the universe -- essentially, one teapoon of a pulsar weighs as much as Mount Everest! But what makes pulsars so fascinating are how rapidly they spin. The slowest spinning pulsar is a pulsar located in the constellation of Cassiopeia with a period of 23.5 seconds (for context, our sun spins around its axis once every *27 days*). The fastest known pulsar, **PSR J1748−2446ad**, has a period of 1.396 milliseconds. That means, it's spin rate is close to 716 spins per second! Astronomers around the world keep track of pulsars throughout the universe, and meticulously keep information about each pulsar in datasets. Using these datsets, I will make a classification model of pulsars using Python and the libraries MatPlotLib and Numpy."
      ],
      "metadata": {
        "id": "fvkZ31q4ISvV"
      }
    },
    {
      "cell_type": "markdown",
      "source": [
        "### References\n",
        "https://www.dunlap.utoronto.ca/observational-research/time-domain-science/pulsars/\n",
        "\n",
        "https://www.britannica.com/biography/Jocelyn-Bell-Burnell\n",
        "\n",
        "https://www.nasa.gov/image-article/solar-rotation-varies-by-latitude/\n",
        "\n",
        "https://www.britannica.com/science/pulsar\n",
        "\n",
        "https://www.atnf.csiro.au/outreach/education/everyone/pulsars/index.html\n",
        "\n",
        "https://www.astron.nl/super-slow-pulsar-challenges-theory/"
      ],
      "metadata": {
        "id": "AtQcX6O1NUYO"
      }
    }
  ]
}